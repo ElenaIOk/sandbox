{
 "cells": [
  {
   "cell_type": "markdown",
   "metadata": {},
   "source": [
    "### Задание 1"
   ]
  },
  {
   "cell_type": "markdown",
   "metadata": {},
   "source": [
    "Выберите один верный ответ. “Коэффициент корреляции между количеством сна и уровнем счастья равен нулю” - это..."
   ]
  },
  {
   "cell_type": "markdown",
   "metadata": {},
   "source": [
    "* 1) Нулевая гипотеза\n",
    "* 2) Альтернативная гипотеза\n"
   ]
  },
  {
   "cell_type": "markdown",
   "metadata": {},
   "source": [
    "Ответ 1) Нулевая гипотеза"
   ]
  },
  {
   "cell_type": "markdown",
   "metadata": {},
   "source": [
    "### Задание 2"
   ]
  },
  {
   "cell_type": "markdown",
   "metadata": {},
   "source": [
    "Выберите один верный ответ. Если уровень значимости 0.10, а p-значение равно 0.7, то необходимо..."
   ]
  },
  {
   "cell_type": "markdown",
   "metadata": {},
   "source": [
    "* 1)отвергнуть нулевую гипотезу\n",
    "* 2)не отвергать нулевую гипотезу\n"
   ]
  },
  {
   "cell_type": "markdown",
   "metadata": {},
   "source": [
    "Ответ 2) не отвергать нулевую гипотезу"
   ]
  },
  {
   "cell_type": "markdown",
   "metadata": {},
   "source": [
    "### Задание 3"
   ]
  },
  {
   "cell_type": "markdown",
   "metadata": {},
   "source": [
    "Выберите все подходящие ответы. Что из перечисленного является \n",
    "статистической гипотезой?"
   ]
  },
  {
   "cell_type": "markdown",
   "metadata": {},
   "source": [
    "* 1)  Случайная величина X имеет \n",
    "     нормальное распределение\n",
    "* 2)  Среднее арифметическое \n",
    "     признака A равно 52.5\n",
    "* 3)  Средний вес упаковки яблок составляет 1300 г.\n",
    "* 4)  Дисперсия случайной величины X \n",
    "     не больше 5"
   ]
  },
  {
   "cell_type": "markdown",
   "metadata": {},
   "source": [
    "Ответ: \\\n",
    "все перечисленное, то есть: \\\n",
    "1) Случайная величина X имеет нормальное распределение; \\\n",
    "2) Среднее арифметическое признака A равно 52.5; \\\n",
    "3) Средний вес упаковки яблок составляет 1300 гр.; \\\n",
    "4) Дисперсия случайной величины X не больше 5."
   ]
  },
  {
   "cell_type": "markdown",
   "metadata": {},
   "source": [
    "### Задание 4"
   ]
  },
  {
   "cell_type": "markdown",
   "metadata": {},
   "source": [
    "Парфюмерная компания хочет узнать возраст женщин, которые являются их покупательницами. Ранее уже было изучено, что средний возраст  был 37, а среднеквадратичное отклонение равно 3.4. Размер выборки - 200 человек. Рассчитайте 95% доверительный интервал для среднего возраста. Представьте все необходимые вычисления."
   ]
  },
  {
   "cell_type": "markdown",
   "metadata": {},
   "source": [
    "Формула доверительного интервала\n",
    "\n",
    "$\\mu \\in \\left ( \\bar{X} - z_{крит}\\times\\frac{\\sigma }{\\sqrt{n}}; \\bar{X} + z_{крит}\\times\\frac{\\sigma }{\\sqrt{n}} \\right )$"
   ]
  },
  {
   "cell_type": "code",
   "execution_count": 1,
   "metadata": {},
   "outputs": [
    {
     "name": "stdout",
     "output_type": "stream",
     "text": [
      "95% доверительный интервал для среднего возраста равен: (36.53, 37.47)\n"
     ]
    }
   ],
   "source": [
    "# из условия задачи до конца не ясно, 3.4 - это истинное среднеквадратичное отклонение или выборочное.\n",
    "# Предположим, что истинное, тогда воспользуемся нормальным распределением.\n",
    "# В противном случае, нужно пользоваться распределением Стьюедента.\n",
    "\n",
    "from scipy.stats import norm\n",
    "\n",
    "# задаим известные параметры\n",
    "\n",
    "n = 200     # размер выборки\n",
    "mu = 37     # средний возраст\n",
    "sigma = 3.4 # истинное среднеквадратичное отклонение\n",
    "alfa = 0.05 # уровень значимости\n",
    "\n",
    "z = -norm.ppf(alfa/2) # критическое значение\n",
    "\n",
    "a = mu - z*sigma/n**0.5   # нижняя граница\n",
    "b = mu + z*sigma/n**0.5   # верхняя граница\n",
    "\n",
    "print('95% доверительный интервал для среднего возраста равен: ({0}, {1})'.format(round(a,2),round(b,2)))\n"
   ]
  },
  {
   "cell_type": "markdown",
   "metadata": {},
   "source": [
    "### Задание 5"
   ]
  },
  {
   "cell_type": "markdown",
   "metadata": {},
   "source": [
    "Перед Вами данные результатов экзаменов для детей средней школы."
   ]
  },
  {
   "cell_type": "code",
   "execution_count": 2,
   "metadata": {},
   "outputs": [],
   "source": [
    "import pandas as pd\n",
    "df=pd.read_csv('examscore.csv')"
   ]
  },
  {
   "cell_type": "code",
   "execution_count": 3,
   "metadata": {},
   "outputs": [
    {
     "data": {
      "text/html": [
       "<div>\n",
       "<style scoped>\n",
       "    .dataframe tbody tr th:only-of-type {\n",
       "        vertical-align: middle;\n",
       "    }\n",
       "\n",
       "    .dataframe tbody tr th {\n",
       "        vertical-align: top;\n",
       "    }\n",
       "\n",
       "    .dataframe thead th {\n",
       "        text-align: right;\n",
       "    }\n",
       "</style>\n",
       "<table border=\"1\" class=\"dataframe\">\n",
       "  <thead>\n",
       "    <tr style=\"text-align: right;\">\n",
       "      <th></th>\n",
       "      <th>gender</th>\n",
       "      <th>race</th>\n",
       "      <th>parenteducation</th>\n",
       "      <th>lunch</th>\n",
       "      <th>testprepcourse</th>\n",
       "      <th>mathscore</th>\n",
       "      <th>readingscore</th>\n",
       "      <th>writingscore</th>\n",
       "    </tr>\n",
       "  </thead>\n",
       "  <tbody>\n",
       "    <tr>\n",
       "      <th>300</th>\n",
       "      <td>female</td>\n",
       "      <td>group C</td>\n",
       "      <td>associate's degree</td>\n",
       "      <td>free/reduced</td>\n",
       "      <td>completed</td>\n",
       "      <td>50</td>\n",
       "      <td>64</td>\n",
       "      <td>68</td>\n",
       "    </tr>\n",
       "    <tr>\n",
       "      <th>590</th>\n",
       "      <td>male</td>\n",
       "      <td>group C</td>\n",
       "      <td>some high school</td>\n",
       "      <td>standard</td>\n",
       "      <td>completed</td>\n",
       "      <td>53</td>\n",
       "      <td>53</td>\n",
       "      <td>48</td>\n",
       "    </tr>\n",
       "    <tr>\n",
       "      <th>518</th>\n",
       "      <td>male</td>\n",
       "      <td>group C</td>\n",
       "      <td>some college</td>\n",
       "      <td>free/reduced</td>\n",
       "      <td>none</td>\n",
       "      <td>53</td>\n",
       "      <td>56</td>\n",
       "      <td>53</td>\n",
       "    </tr>\n",
       "    <tr>\n",
       "      <th>221</th>\n",
       "      <td>female</td>\n",
       "      <td>group D</td>\n",
       "      <td>bachelor's degree</td>\n",
       "      <td>standard</td>\n",
       "      <td>none</td>\n",
       "      <td>81</td>\n",
       "      <td>91</td>\n",
       "      <td>90</td>\n",
       "    </tr>\n",
       "    <tr>\n",
       "      <th>172</th>\n",
       "      <td>female</td>\n",
       "      <td>group E</td>\n",
       "      <td>bachelor's degree</td>\n",
       "      <td>free/reduced</td>\n",
       "      <td>none</td>\n",
       "      <td>48</td>\n",
       "      <td>52</td>\n",
       "      <td>56</td>\n",
       "    </tr>\n",
       "  </tbody>\n",
       "</table>\n",
       "</div>"
      ],
      "text/plain": [
       "     gender     race     parenteducation         lunch testprepcourse  \\\n",
       "300  female  group C  associate's degree  free/reduced      completed   \n",
       "590    male  group C    some high school      standard      completed   \n",
       "518    male  group C        some college  free/reduced           none   \n",
       "221  female  group D   bachelor's degree      standard           none   \n",
       "172  female  group E   bachelor's degree  free/reduced           none   \n",
       "\n",
       "     mathscore  readingscore  writingscore  \n",
       "300         50            64            68  \n",
       "590         53            53            48  \n",
       "518         53            56            53  \n",
       "221         81            91            90  \n",
       "172         48            52            56  "
      ]
     },
     "execution_count": 3,
     "metadata": {},
     "output_type": "execute_result"
    }
   ],
   "source": [
    "df.sample(5)"
   ]
  },
  {
   "cell_type": "markdown",
   "metadata": {},
   "source": [
    "Обработайте данные на предмет пропусков и проверьте гипотезу о том, что между средними оценками по математике для мальчиков и девочек нет статистических различий. Представьте все необходимые вычисления и содержательную интерпретацию."
   ]
  },
  {
   "cell_type": "code",
   "execution_count": 4,
   "metadata": {},
   "outputs": [
    {
     "name": "stdout",
     "output_type": "stream",
     "text": [
      "<class 'pandas.core.frame.DataFrame'>\n",
      "RangeIndex: 1000 entries, 0 to 999\n",
      "Data columns (total 8 columns):\n",
      " #   Column           Non-Null Count  Dtype \n",
      "---  ------           --------------  ----- \n",
      " 0   gender           1000 non-null   object\n",
      " 1   race             1000 non-null   object\n",
      " 2   parenteducation  1000 non-null   object\n",
      " 3   lunch            1000 non-null   object\n",
      " 4   testprepcourse   1000 non-null   object\n",
      " 5   mathscore        1000 non-null   int64 \n",
      " 6   readingscore     1000 non-null   int64 \n",
      " 7   writingscore     1000 non-null   int64 \n",
      "dtypes: int64(3), object(5)\n",
      "memory usage: 62.6+ KB\n"
     ]
    }
   ],
   "source": [
    "df.info()"
   ]
  },
  {
   "cell_type": "code",
   "execution_count": 5,
   "metadata": {},
   "outputs": [
    {
     "data": {
      "text/plain": [
       "gender             0\n",
       "race               0\n",
       "parenteducation    0\n",
       "lunch              0\n",
       "testprepcourse     0\n",
       "mathscore          0\n",
       "readingscore       0\n",
       "writingscore       0\n",
       "dtype: int64"
      ]
     },
     "execution_count": 5,
     "metadata": {},
     "output_type": "execute_result"
    }
   ],
   "source": [
    "# проверим данные на предмет пропусков\n",
    "df.isna().sum()"
   ]
  },
  {
   "cell_type": "markdown",
   "metadata": {},
   "source": [
    "пропусков в датасете нет"
   ]
  },
  {
   "cell_type": "code",
   "execution_count": 6,
   "metadata": {},
   "outputs": [
    {
     "data": {
      "text/plain": [
       "male      515\n",
       "female    485\n",
       "Name: gender, dtype: int64"
      ]
     },
     "execution_count": 6,
     "metadata": {},
     "output_type": "execute_result"
    }
   ],
   "source": [
    "df.gender.value_counts()"
   ]
  },
  {
   "cell_type": "markdown",
   "metadata": {},
   "source": [
    "Мусора в в принзнаке gender нет"
   ]
  },
  {
   "cell_type": "code",
   "execution_count": 7,
   "metadata": {},
   "outputs": [
    {
     "data": {
      "image/png": "[encoded data removed]",
      "text/plain": [
       "<Figure size 1080x360 with 1 Axes>"
      ]
     },
     "metadata": {
      "needs_background": "light"
     },
     "output_type": "display_data"
    }
   ],
   "source": [
    "# построим боксплоты для оценок по математики для девочек и мальчиков\n",
    "\n",
    "import matplotlib.pyplot as plt\n",
    "import seaborn as sns \n",
    "%matplotlib inline\n",
    "\n",
    "fig, ax = plt.subplots(figsize = (15, 5))\n",
    "\n",
    "sns.boxplot(x='gender', y='mathscore',data=df,ax=ax)\n",
    "\n",
    "plt.xticks(rotation=45)\n",
    "ax.set_title('Boxplot for Gender')\n",
    "\n",
    "plt.show()\n"
   ]
  },
  {
   "cell_type": "markdown",
   "metadata": {},
   "source": [
    "В признаке mathscore имеется странные отрицательные значения. Посмотрим на них поближе."
   ]
  },
  {
   "cell_type": "code",
   "execution_count": 8,
   "metadata": {},
   "outputs": [
    {
     "data": {
      "text/plain": [
       "<matplotlib.axes._subplots.AxesSubplot at 0x25f2584f288>"
      ]
     },
     "execution_count": 8,
     "metadata": {},
     "output_type": "execute_result"
    },
    {
     "data": {
      "image/png": "[encoded data removed]",
      "text/plain": [
       "<Figure size 432x288 with 1 Axes>"
      ]
     },
     "metadata": {
      "needs_background": "light"
     },
     "output_type": "display_data"
    }
   ],
   "source": [
    "df[df.gender == 'male'].mathscore.hist()"
   ]
  },
  {
   "cell_type": "code",
   "execution_count": 9,
   "metadata": {},
   "outputs": [
    {
     "data": {
      "text/html": [
       "<div>\n",
       "<style scoped>\n",
       "    .dataframe tbody tr th:only-of-type {\n",
       "        vertical-align: middle;\n",
       "    }\n",
       "\n",
       "    .dataframe tbody tr th {\n",
       "        vertical-align: top;\n",
       "    }\n",
       "\n",
       "    .dataframe thead th {\n",
       "        text-align: right;\n",
       "    }\n",
       "</style>\n",
       "<table border=\"1\" class=\"dataframe\">\n",
       "  <thead>\n",
       "    <tr style=\"text-align: right;\">\n",
       "      <th></th>\n",
       "      <th>gender</th>\n",
       "      <th>race</th>\n",
       "      <th>parenteducation</th>\n",
       "      <th>lunch</th>\n",
       "      <th>testprepcourse</th>\n",
       "      <th>mathscore</th>\n",
       "      <th>readingscore</th>\n",
       "      <th>writingscore</th>\n",
       "    </tr>\n",
       "  </thead>\n",
       "  <tbody>\n",
       "    <tr>\n",
       "      <th>627</th>\n",
       "      <td>male</td>\n",
       "      <td>group C</td>\n",
       "      <td>bachelor's degree</td>\n",
       "      <td>standard</td>\n",
       "      <td>none</td>\n",
       "      <td>-77</td>\n",
       "      <td>66</td>\n",
       "      <td>69</td>\n",
       "    </tr>\n",
       "    <tr>\n",
       "      <th>794</th>\n",
       "      <td>male</td>\n",
       "      <td>group D</td>\n",
       "      <td>high school</td>\n",
       "      <td>standard</td>\n",
       "      <td>none</td>\n",
       "      <td>-77</td>\n",
       "      <td>72</td>\n",
       "      <td>70</td>\n",
       "    </tr>\n",
       "  </tbody>\n",
       "</table>\n",
       "</div>"
      ],
      "text/plain": [
       "    gender     race    parenteducation     lunch testprepcourse  mathscore  \\\n",
       "627   male  group C  bachelor's degree  standard           none        -77   \n",
       "794   male  group D        high school  standard           none        -77   \n",
       "\n",
       "     readingscore  writingscore  \n",
       "627            66            69  \n",
       "794            72            70  "
      ]
     },
     "execution_count": 9,
     "metadata": {},
     "output_type": "execute_result"
    }
   ],
   "source": [
    "df[df.mathscore < 0]"
   ]
  },
  {
   "cell_type": "markdown",
   "metadata": {},
   "source": [
    "Очевидно, оценка по математике не может быть меньше нуля. Можно предположить, что в двух записях допущены опечатки, и оценка на самом деле = 77, а не -77.\n",
    "Исходя из этого допущения, выполним правки в датасете."
   ]
  },
  {
   "cell_type": "code",
   "execution_count": 10,
   "metadata": {},
   "outputs": [],
   "source": [
    "df.at[627,'mathscore'] = 77\n",
    "df.at[794,'mathscore'] = 77"
   ]
  },
  {
   "cell_type": "code",
   "execution_count": 11,
   "metadata": {},
   "outputs": [
    {
     "data": {
      "text/plain": [
       "array([[<matplotlib.axes._subplots.AxesSubplot object at 0x0000025F25764408>]],\n",
       "      dtype=object)"
      ]
     },
     "execution_count": 11,
     "metadata": {},
     "output_type": "execute_result"
    },
    {
     "data": {
      "image/png": "[encoded data removed]",
      "text/plain": [
       "<Figure size 432x288 with 1 Axes>"
      ]
     },
     "metadata": {
      "needs_background": "light"
     },
     "output_type": "display_data"
    }
   ],
   "source": [
    "df.loc[df.gender == 'male',['mathscore']].hist(bins = 50)"
   ]
  },
  {
   "cell_type": "code",
   "execution_count": 12,
   "metadata": {},
   "outputs": [
    {
     "data": {
      "text/plain": [
       "array([[<matplotlib.axes._subplots.AxesSubplot object at 0x0000025F25A09748>]],\n",
       "      dtype=object)"
      ]
     },
     "execution_count": 12,
     "metadata": {},
     "output_type": "execute_result"
    },
    {
     "data": {
      "image/png": "[encoded data removed]",
      "text/plain": [
       "<Figure size 432x288 with 1 Axes>"
      ]
     },
     "metadata": {
      "needs_background": "light"
     },
     "output_type": "display_data"
    }
   ],
   "source": [
    "df.loc[df.gender == 'female',['mathscore']].hist(bins = 50)"
   ]
  },
  {
   "cell_type": "markdown",
   "metadata": {},
   "source": [
    "Сформулируем статистическую гипотезу: \\\n",
    "пусть случайная величина X - оценка по математике мальчиков, а\n",
    "случайная величина Y - оценка по математике девочек, тогда \\\n",
    "гипотеза $H_0$:\n",
    "$\\bar{X} = \\bar{Y}$ , или: $\\overline{X - Y} = 0$ \\\n",
    "альтернативная гипотеза $H_1$: \n",
    "$\\overline{X - Y} \\neq 0$  \\\n",
    "Для оценки гипотезы воспользуемся функцией ttest_ind для двух независимых случайнвх величин."
   ]
  },
  {
   "cell_type": "code",
   "execution_count": 13,
   "metadata": {},
   "outputs": [
    {
     "data": {
      "text/plain": [
       "2.4117264505137583e-10"
      ]
     },
     "execution_count": 13,
     "metadata": {},
     "output_type": "execute_result"
    }
   ],
   "source": [
    "from scipy.stats import ttest_ind\n",
    "\n",
    "ttest_ind(df.loc[df.gender == 'female',['mathscore']], df.loc[df.gender == 'male',['mathscore']]).pvalue[0]"
   ]
  },
  {
   "cell_type": "markdown",
   "metadata": {},
   "source": [
    "pvalue пренебрежимо мало, поэтому нулевую гипотезу можно отвергнуть.\\\n",
    "То есть между оценками по математике для девочек и мальчиков есть статистические различия. То есть признак gender влияет на значение признака mathscore и его (gender) можно использовать в модели для оценки mathscore."
   ]
  },
  {
   "cell_type": "markdown",
   "metadata": {},
   "source": [
    "### Задание 6"
   ]
  },
  {
   "cell_type": "markdown",
   "metadata": {},
   "source": [
    "Вам предложены данные A/B теста. Проанализируйте, есть ли статистически значимая разница для конверсии в контрольной и экспериментальной группе."
   ]
  },
  {
   "cell_type": "markdown",
   "metadata": {},
   "source": [
    "Данные содержат 5 признаков:\n",
    "    \n",
    "* user_id - ID пользователя\n",
    "* timestamp - Временная отметка\n",
    "* group - К какой группе относится пользователь (контрольная или экспериментальная)\n",
    "* landing_page - Какой дизайн показали пользователю {old_page, new_page}\n",
    "* converted - Конверсия (0=not converted, 1=converted)"
   ]
  },
  {
   "cell_type": "markdown",
   "metadata": {},
   "source": [
    "Не забудьте проверить и подготовить данные, сделать всю необходимую предобработку."
   ]
  },
  {
   "cell_type": "code",
   "execution_count": 14,
   "metadata": {},
   "outputs": [
    {
     "data": {
      "text/html": [
       "<div>\n",
       "<style scoped>\n",
       "    .dataframe tbody tr th:only-of-type {\n",
       "        vertical-align: middle;\n",
       "    }\n",
       "\n",
       "    .dataframe tbody tr th {\n",
       "        vertical-align: top;\n",
       "    }\n",
       "\n",
       "    .dataframe thead th {\n",
       "        text-align: right;\n",
       "    }\n",
       "</style>\n",
       "<table border=\"1\" class=\"dataframe\">\n",
       "  <thead>\n",
       "    <tr style=\"text-align: right;\">\n",
       "      <th></th>\n",
       "      <th>user_id</th>\n",
       "      <th>timestamp</th>\n",
       "      <th>group</th>\n",
       "      <th>landing_page</th>\n",
       "      <th>converted</th>\n",
       "    </tr>\n",
       "  </thead>\n",
       "  <tbody>\n",
       "    <tr>\n",
       "      <th>0</th>\n",
       "      <td>851104</td>\n",
       "      <td>2017-01-21 22:11:48.556739</td>\n",
       "      <td>control</td>\n",
       "      <td>old_page</td>\n",
       "      <td>0</td>\n",
       "    </tr>\n",
       "    <tr>\n",
       "      <th>1</th>\n",
       "      <td>804228</td>\n",
       "      <td>2017-01-12 08:01:45.159739</td>\n",
       "      <td>control</td>\n",
       "      <td>old_page</td>\n",
       "      <td>0</td>\n",
       "    </tr>\n",
       "    <tr>\n",
       "      <th>2</th>\n",
       "      <td>661590</td>\n",
       "      <td>2017-01-11 16:55:06.154213</td>\n",
       "      <td>treatment</td>\n",
       "      <td>new_page</td>\n",
       "      <td>0</td>\n",
       "    </tr>\n",
       "    <tr>\n",
       "      <th>3</th>\n",
       "      <td>853541</td>\n",
       "      <td>2017-01-08 18:28:03.143765</td>\n",
       "      <td>treatment</td>\n",
       "      <td>new_page</td>\n",
       "      <td>0</td>\n",
       "    </tr>\n",
       "    <tr>\n",
       "      <th>4</th>\n",
       "      <td>864975</td>\n",
       "      <td>2017-01-21 01:52:26.210827</td>\n",
       "      <td>control</td>\n",
       "      <td>old_page</td>\n",
       "      <td>1</td>\n",
       "    </tr>\n",
       "  </tbody>\n",
       "</table>\n",
       "</div>"
      ],
      "text/plain": [
       "   user_id                   timestamp      group landing_page  converted\n",
       "0   851104  2017-01-21 22:11:48.556739    control     old_page          0\n",
       "1   804228  2017-01-12 08:01:45.159739    control     old_page          0\n",
       "2   661590  2017-01-11 16:55:06.154213  treatment     new_page          0\n",
       "3   853541  2017-01-08 18:28:03.143765  treatment     new_page          0\n",
       "4   864975  2017-01-21 01:52:26.210827    control     old_page          1"
      ]
     },
     "execution_count": 14,
     "metadata": {},
     "output_type": "execute_result"
    }
   ],
   "source": [
    "dfab = pd.read_csv('ab_data.csv')\n",
    "\n",
    "dfab.head()"
   ]
  },
  {
   "cell_type": "code",
   "execution_count": 15,
   "metadata": {},
   "outputs": [
    {
     "name": "stdout",
     "output_type": "stream",
     "text": [
      "<class 'pandas.core.frame.DataFrame'>\n",
      "RangeIndex: 294478 entries, 0 to 294477\n",
      "Data columns (total 5 columns):\n",
      " #   Column        Non-Null Count   Dtype \n",
      "---  ------        --------------   ----- \n",
      " 0   user_id       294478 non-null  int64 \n",
      " 1   timestamp     294478 non-null  object\n",
      " 2   group         294478 non-null  object\n",
      " 3   landing_page  294478 non-null  object\n",
      " 4   converted     294478 non-null  int64 \n",
      "dtypes: int64(2), object(3)\n",
      "memory usage: 11.2+ MB\n"
     ]
    }
   ],
   "source": [
    "dfab.info()"
   ]
  },
  {
   "cell_type": "code",
   "execution_count": 16,
   "metadata": {},
   "outputs": [
    {
     "data": {
      "text/plain": [
       "user_id         0\n",
       "timestamp       0\n",
       "group           0\n",
       "landing_page    0\n",
       "converted       0\n",
       "dtype: int64"
      ]
     },
     "execution_count": 16,
     "metadata": {},
     "output_type": "execute_result"
    }
   ],
   "source": [
    "dfab.isna().sum()"
   ]
  },
  {
   "cell_type": "markdown",
   "metadata": {},
   "source": [
    "Пропусков нет."
   ]
  },
  {
   "cell_type": "code",
   "execution_count": 17,
   "metadata": {},
   "outputs": [
    {
     "data": {
      "text/plain": [
       "array(['control', 'treatment'], dtype=object)"
      ]
     },
     "execution_count": 17,
     "metadata": {},
     "output_type": "execute_result"
    }
   ],
   "source": [
    "dfab.group.unique()"
   ]
  },
  {
   "cell_type": "code",
   "execution_count": 18,
   "metadata": {},
   "outputs": [
    {
     "data": {
      "text/plain": [
       "array([0, 1], dtype=int64)"
      ]
     },
     "execution_count": 18,
     "metadata": {},
     "output_type": "execute_result"
    }
   ],
   "source": [
    "dfab.converted.unique()"
   ]
  },
  {
   "cell_type": "markdown",
   "metadata": {},
   "source": [
    "Мусора в данных нет."
   ]
  },
  {
   "cell_type": "code",
   "execution_count": 22,
   "metadata": {},
   "outputs": [
    {
     "data": {
      "image/png": "[encoded data removed]",
      "text/plain": [
       "<Figure size 360x720 with 2 Axes>"
      ]
     },
     "metadata": {
      "needs_background": "light"
     },
     "output_type": "display_data"
    }
   ],
   "source": [
    "import numpy as np\n",
    "\n",
    "fig, (ax1, ax2) = plt.subplots(1, 2, figsize = (5,10))\n",
    "x = dfab[dfab.group == 'control'].converted.value_counts().index\n",
    "y = dfab[dfab.group == 'control'].converted.value_counts()/1000\n",
    "\n",
    "x1 = dfab[dfab.group == 'treatment'].converted.value_counts().index\n",
    "y1 = dfab[dfab.group == 'treatment'].converted.value_counts()/1000\n",
    "yticks = np.arange(0,150,10)\n",
    "ax1.set_xticks(x)\n",
    "ax2.set_xticks(x1)\n",
    "\n",
    "ax1.set_yticks(yticks)\n",
    "ax2.set_yticks(yticks)\n",
    "\n",
    "ax1.bar(x = x, height = y, color = 'blue')\n",
    "ax2.bar(x = x1, height = y1, color = 'green')\n",
    "\n",
    "ax1.grid(True)\n",
    "ax2.grid(True)"
   ]
  },
  {
   "cell_type": "markdown",
   "metadata": {},
   "source": [
    "Пусть случайная величина X - пропорция 1 в признаке converted для group = 'control', а \\\n",
    "случайная величина Y - пропорция 1 в признаке converted для group = 'treatment'. \\\n",
    "Пусть случайные величины X и Y нормальны и независимы.\n",
    "Сформулируем гипотезу: \\\n",
    "нулевая гипотеза $H_0$ : пропорции X и Y равны; \\\n",
    "альтернативная гипотеза $H_1$ : пропорции X и Y не равны."
   ]
  },
  {
   "cell_type": "code",
   "execution_count": 23,
   "metadata": {},
   "outputs": [
    {
     "name": "stdout",
     "output_type": "stream",
     "text": [
      "Пропорция для X, px = 0.1204, пропорция для Y, py = 0.11892\n"
     ]
    }
   ],
   "source": [
    "X = dfab[dfab.group == 'control'].converted\n",
    "Y = dfab[dfab.group == 'treatment'].converted\n",
    "\n",
    "px = round(X.value_counts()[1]/len(X),5) # пропорция конверсии для X\n",
    "py = round(Y.value_counts()[1]/len(Y),5) # пропорция конверсии для Y\n",
    "\n",
    "print('Пропорция для X, px = {0}, пропорция для Y, py = {1}'.format(px,py))"
   ]
  },
  {
   "cell_type": "code",
   "execution_count": 24,
   "metadata": {},
   "outputs": [
    {
     "data": {
      "text/plain": [
       "0.11965919355605512"
      ]
     },
     "execution_count": 24,
     "metadata": {},
     "output_type": "execute_result"
    }
   ],
   "source": [
    "nx = len(X) # величина выборки X\n",
    "ny = len(Y) # величина выборки Y\n",
    "\n",
    "npx = X.value_counts()[1]\n",
    "npy = Y.value_counts()[1]\n",
    "\n",
    "pxy = (npx + npy)/(nx + ny)\n",
    "pxy"
   ]
  },
  {
   "cell_type": "markdown",
   "metadata": {},
   "source": [
    "$\\mathrm{z}_{\\mathrm{st}}=\\frac{\\mathrm{p}_{1}-\\mathrm{p}_{2}}{\\sqrt{\\mathrm{p}(1-\\mathrm{p})} \\sqrt{\\frac{1}{\\mathrm{n}_{1}}+\\frac{1}{\\mathrm{n}_{2}}}}$"
   ]
  },
  {
   "cell_type": "code",
   "execution_count": 25,
   "metadata": {},
   "outputs": [
    {
     "name": "stdout",
     "output_type": "stream",
     "text": [
      "z-статистика =  1.2372563204801654\n"
     ]
    }
   ],
   "source": [
    "z = (px - py)/((pxy*(1-pxy))**0.5*(1/nx+1/ny)**0.5) # z-крит\n",
    "print('z-статистика = ', z)"
   ]
  },
  {
   "cell_type": "code",
   "execution_count": 26,
   "metadata": {},
   "outputs": [
    {
     "data": {
      "text/plain": [
       "0.21599193837920416"
      ]
     },
     "execution_count": 26,
     "metadata": {},
     "output_type": "execute_result"
    }
   ],
   "source": [
    "(1-norm.cdf(z))*2 # p-value"
   ]
  },
  {
   "cell_type": "markdown",
   "metadata": {},
   "source": [
    "p-value больше чем уровень значимости 0.05"
   ]
  },
  {
   "cell_type": "markdown",
   "metadata": {},
   "source": [
    "Нулевая гипотеза о разности пропорций не опровергнута с 5% уровнем значимости.\n",
    "То есть, статистически значимая разница для конверсии в контрольной и экспериментальной группе отсутствует с 5% уровнем значимости."
   ]
  },
  {
   "cell_type": "code",
   "execution_count": null,
   "metadata": {},
   "outputs": [],
   "source": []
  }
 ],
 "metadata": {
  "kernelspec": {
   "display_name": "Python 3",
   "language": "python",
   "name": "python3"
  },
  "language_info": {
   "codemirror_mode": {
    "name": "ipython",
    "version": 3
   },
   "file_extension": ".py",
   "mimetype": "text/x-python",
   "name": "python",
   "nbconvert_exporter": "python",
   "pygments_lexer": "ipython3",
   "version": "3.7.6"
  }
 },
 "nbformat": 4,
 "nbformat_minor": 4
}
